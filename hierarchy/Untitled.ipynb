{
 "cells": [
  {
   "cell_type": "code",
   "execution_count": 5,
   "metadata": {
    "collapsed": true
   },
   "outputs": [],
   "source": [
    "%matplotlib inline\n",
    "from ndreg import *\n",
    "import matplotlib\n",
    "import ndio.remote.neurodata as neurodata\n",
    "import random"
   ]
  },
  {
   "cell_type": "code",
   "execution_count": 6,
   "metadata": {
    "collapsed": true
   },
   "outputs": [],
   "source": [
    "inToken = 'Aut1367'\n",
    "ori1 = 'RPS'\n",
    "refToken = \"ara_ccf2\"                         # hardcoded 'ara_ccf2' atlas until additional functionality is requested"
   ]
  },
  {
   "cell_type": "code",
   "execution_count": 7,
   "metadata": {
    "collapsed": false
   },
   "outputs": [
    {
     "name": "stdout",
     "output_type": "stream",
     "text": [
      "reference token/atlas obtained\n"
     ]
    }
   ],
   "source": [
    "refImg = imgDownload(refToken)                # download atlas\n",
    "refAnnoImg = imgDownload(refToken, channel=\"annotation\")\n",
    "print \"reference token/atlas obtained\""
   ]
  },
  {
   "cell_type": "code",
   "execution_count": 8,
   "metadata": {
    "collapsed": false
   },
   "outputs": [
    {
     "name": "stdout",
     "output_type": "stream",
     "text": [
      "level 5 brain obtained\n"
     ]
    }
   ],
   "source": [
    "inImg = imgDownload(inToken, resolution=5)    # store downsampled level 5 brain to memory\n",
    "(values, bins) = np.histogram(sitk.GetArrayFromImage(inImg), bins=100, range=(0,500))\n",
    "print \"level 5 brain obtained\""
   ]
  },
  {
   "cell_type": "code",
   "execution_count": 9,
   "metadata": {
    "collapsed": false
   },
   "outputs": [
    {
     "name": "stdout",
     "output_type": "stream",
     "text": [
      "applied filtering\n"
     ]
    }
   ],
   "source": [
    "counts = np.bincount(values)\n",
    "maximum = np.argmax(counts)\n",
    "\n",
    "lowerThreshold = maximum\n",
    "upperThreshold = sitk.GetArrayFromImage(inImg).max()+1\n",
    "\n",
    "inImg = sitk.Threshold(inImg,lowerThreshold,upperThreshold,lowerThreshold) - lowerThreshold\n",
    "print \"applied filtering\""
   ]
  },
  {
   "cell_type": "code",
   "execution_count": 10,
   "metadata": {
    "collapsed": false
   },
   "outputs": [
    {
     "name": "stdout",
     "output_type": "stream",
     "text": [
      "inToken:\n"
     ]
    }
   ],
   "source": [
    "rawImg = sitk.GetArrayFromImage(inImg)\n",
    "xdimensions = len(rawImg[:,0,0])\n",
    "ydimensions = len(rawImg[0,:,0])\n",
    "zdimensions = len(rawImg[0,0,:])\n",
    "xyz = []\n",
    "for i in range(40000):\n",
    "    value = 0\n",
    "    while(value == 0):\n",
    "        xval = random.sample(xrange(0,xdimensions), 1)[0]\n",
    "        yval = random.sample(xrange(0,ydimensions), 1)[0]\n",
    "        zval = random.sample(xrange(0,zdimensions), 1)[0]\n",
    "        value = rawImg[xval,yval,zval]\n",
    "        if [xval, yval, zval] not in xyz and value > 300:\n",
    "            xyz.append([xval, yval, zval])\n",
    "        else:\n",
    "            value = 0\n",
    "print('inToken:')"
   ]
  },
  {
   "cell_type": "code",
   "execution_count": 12,
   "metadata": {
    "collapsed": false
   },
   "outputs": [
    {
     "name": "stdout",
     "output_type": "stream",
     "text": [
      "Aut1367\n",
      "self._token asdfasdf:\n",
      "Aut1367raw\n",
      "Aut1367rawplotly\n",
      "random sample of points above 250\n"
     ]
    }
   ],
   "source": [
    "from clarityviz import claritybase\n",
    "from clarityviz import densitygraph\n",
    "from clarityviz import atlasregiongraph\n",
    "\n",
    "print(inToken)\n",
    "rImg = claritybase(inToken + 'raw', None)\n",
    "rImg.savePoints(None,xyz)\n",
    "rImg.generate_plotly_html()\n",
    "print \"random sample of points above 250\""
   ]
  },
  {
   "cell_type": "code",
   "execution_count": 13,
   "metadata": {
    "collapsed": false
   },
   "outputs": [
    {
     "name": "stdout",
     "output_type": "stream",
     "text": [
      "resampled img\n"
     ]
    }
   ],
   "source": [
    "spacingImg = inImg.GetSpacing()\n",
    "spacing = tuple(i * 50 for i in spacingImg)\n",
    "inImg.SetSpacing(spacingImg)\n",
    "inImg_download = inImg    # Aut1367 set to default spacing\n",
    "inImg = imgResample(inImg, spacing=refImg.GetSpacing())\n",
    "print \"resampled img\""
   ]
  },
  {
   "cell_type": "code",
   "execution_count": 14,
   "metadata": {
    "collapsed": false
   },
   "outputs": [
    {
     "name": "stdout",
     "output_type": "stream",
     "text": [
      "reoriented image\n",
      "Step translation:\n",
      "0.\t -0.457805606529\n",
      "1.\t -0.470376122785\n",
      "2.\t -0.481897752587\n",
      "3.\t -0.491663669371\n",
      "4.\t -0.501549005733\n",
      "5.\t -0.490182804965\n",
      "6.\t -0.498854440846\n",
      "7.\t -0.509247034787\n",
      "8.\t -0.509120410128\n",
      "9.\t -0.516962569106\n",
      "10.\t -0.512785333917\n",
      "11.\t -0.51575699239\n",
      "12.\t -0.515476470487\n",
      "13.\t -0.516140261986\n",
      "14.\t -0.516013831492\n",
      "Step rigid:\n",
      "0.\t -0.551617246966\n",
      "1.\t -0.448714338906\n",
      "2.\t -0.559963905386\n",
      "3.\t -0.541618170683\n",
      "4.\t -0.570633469682\n",
      "5.\t -0.55824413768\n",
      "6.\t -0.569076069602\n",
      "7.\t -0.571724972908\n",
      "8.\t -0.572059011875\n",
      "9.\t -0.57191566623\n",
      "10.\t -0.572609615982\n",
      "11.\t -0.572863404052\n",
      "12.\t -0.57319846761\n",
      "13.\t -0.573332926537\n",
      "14.\t -0.573565988028\n",
      "15.\t -0.573726033859\n",
      "16.\t -0.573953693275\n",
      "17.\t -0.574168273844\n",
      "18.\t -0.574540042898\n",
      "19.\t -0.574849192177\n",
      "20.\t -0.575095595107\n",
      "21.\t -0.575341869818\n",
      "22.\t -0.575548458287\n",
      "23.\t -0.575517777471\n",
      "Step affine:\n",
      "0.\t -0.567759247249\n",
      "1.\t -0.483097851489\n",
      "2.\t -0.571798388276\n",
      "3.\t -0.572693349637\n",
      "4.\t -0.578713175456\n",
      "5.\t -0.578410872717\n",
      "6.\t -0.580538245223\n",
      "7.\t -0.580713044914\n",
      "8.\t -0.581236760361\n",
      "9.\t -0.581731875086\n",
      "10.\t -0.581979035869\n",
      "11.\t -0.582034099807\n",
      "12.\t -0.582103264331\n",
      "13.\t -0.582430441587\n",
      "14.\t -0.582830956045\n",
      "15.\t -0.58297047612\n",
      "16.\t -0.583226274419\n",
      "17.\t -0.58343107821\n",
      "18.\t -0.583277738226\n",
      "19.\t -0.583422874201\n",
      "20.\t -0.583606003201\n",
      "21.\t -0.583842005298\n",
      "22.\t -0.583996593795\n",
      "23.\t -0.584090892379\n",
      "24.\t -0.584283117231\n",
      "25.\t -0.585148245842\n",
      "26.\t -0.585434495016\n",
      "27.\t -0.585426317152\n",
      "28.\t -0.585547840721\n",
      "29.\t -0.585556266817\n",
      "30.\t -0.585759074955\n",
      "31.\t -0.586115632704\n",
      "32.\t -0.586438610851\n",
      "33.\t -0.586653756601\n",
      "34.\t -0.586865713599\n",
      "35.\t -0.586957094466\n"
     ]
    }
   ],
   "source": [
    "Img_reorient = imgReorient(inImg, ori1, \"RSA\")    # reoriented Aut1367\n",
    "# Img_reorient = imgReorient(inImg, \"LPS\", \"RSA\")    # reoriented Aut1367\n",
    "refImg_ds = imgResample(refImg, spacing=spacing)    # atlas with downsampled spacing 10x\n",
    "inImg_ds = imgResample(Img_reorient, spacing=spacing)    # Aut1367 with downsampled spacing 10x\n",
    "print \"reoriented image\"\n",
    "affine = imgAffineComposite(inImg_ds, refImg_ds, iterations=100, useMI=True, verbose=True)\n",
    "inImg_affine = imgApplyAffine(Img_reorient, affine, size=refImg.GetSize())\n"
   ]
  },
  {
   "cell_type": "code",
   "execution_count": 15,
   "metadata": {
    "collapsed": false
   },
   "outputs": [
    {
     "name": "stdout",
     "output_type": "stream",
     "text": [
      "affine\n",
      "\n",
      "Step 0: alpha=0.05, beta=0.05, scale=1.0\n",
      "\tE, E_velocity, E_rate, E_image (E_image %), LearningRate\n",
      "0.\t-3.63615e+10, 1028.72, 0, -3.63615e+10 (97.9914%), 5.500000e-04\n",
      "1.\t-3.71781e+10, 1145.44, 0, -3.71781e+10 (97.0864%), 3.025000e-04\n",
      "2.\t-3.77422e+10, 1860.59, 0, -3.77422e+10 (96.4613%), 3.327500e-04\n",
      "3.\t-4.25284e+10, 2067.74, 0, -4.25284e+10 (91.1575%), 1.830125e-04\n",
      "4.\t-4.34308e+10, 2406.92, 0, -4.34308e+10 (90.1575%), 2.013138e-04\n",
      "5.\t-4.35887e+10, 2505.38, 0, -4.35887e+10 (89.9825%), 5.536128e-05\n",
      "6.\t-4.35951e+10, 2509.5, 0, -4.35951e+10 (89.9754%), 1.903044e-06\n",
      "E = -4.35951e+10 (89.9754%)\n",
      "Length = 45.5643\n",
      "Time = 29.116s (0.485267m)\n",
      "\n",
      "Step 1: alpha=0.02, beta=0.05, scale=1.0\n",
      "\tE, E_velocity, E_rate, E_image (E_image %), LearningRate\n",
      "0.\t-4.39231e+10, 143.774, 0, -4.39231e+10 (99.2438%), 1.375000e-04\n",
      "1.\t-4.42026e+10, 184.947, 0, -4.42026e+10 (98.9008%), 7.562500e-05\n",
      "2.\t-4.51077e+10, 306.009, 0, -4.51077e+10 (97.7899%), 8.318750e-05\n",
      "3.\t-4.64862e+10, 321.094, 0, -4.64862e+10 (96.0981%), 4.575313e-05\n",
      "4.\t-4.65552e+10, 336.925, 0, -4.65552e+10 (96.0134%), 2.516422e-05\n",
      "5.\t-4.67079e+10, 370.088, 0, -4.67079e+10 (95.826%), 2.768064e-05\n",
      "6.\t-4.70016e+10, 405.082, 0, -4.70016e+10 (95.4656%), 3.044870e-05\n",
      "7.\t-4.70493e+10, 457.012, 0, -4.70493e+10 (95.4071%), 3.349358e-05\n",
      "8.\t-4.711e+10, 513.205, 0, -4.711e+10 (95.3326%), 3.684293e-05\n",
      "9.\t-4.71449e+10, 586.223, 0, -4.71449e+10 (95.2897%), 4.052723e-05\n",
      "10.\t-4.77486e+10, 686.555, 0, -4.77486e+10 (94.5488%), 4.457995e-05\n",
      "11.\t-4.80059e+10, 729.8, 0, -4.80059e+10 (94.233%), 2.451897e-05\n",
      "12.\t-4.80082e+10, 736.268, 0, -4.80082e+10 (94.2302%), 3.371359e-06\n",
      "E = -4.80082e+10 (94.2302%)\n",
      "Length = 25.37\n",
      "Time = 44.0185s (0.733642m)\n",
      "\n",
      "Step 2: alpha=0.01, beta=0.05, scale=1.0\n",
      "\tE, E_velocity, E_rate, E_image (E_image %), LearningRate\n",
      "0.\t-4.76656e+10, 24.321, 0, -4.76656e+10 (99.4148%), 3.437500e-05\n",
      "1.\t-4.7927e+10, 73.146, 0, -4.7927e+10 (99.0779%), 3.781250e-05\n",
      "2.\t-4.81774e+10, 114.951, 0, -4.81774e+10 (98.755%), 4.159375e-05\n",
      "3.\t-4.88452e+10, 202.067, 0, -4.88452e+10 (97.8943%), 4.575313e-05\n",
      "4.\t-5.01006e+10, 237.487, 0, -5.01006e+10 (96.276%), 2.516422e-05\n",
      "5.\t-5.04728e+10, 255.649, 0, -5.04728e+10 (95.7962%), 1.384032e-05\n",
      "6.\t-5.06012e+10, 276.199, 0, -5.06012e+10 (95.6307%), 1.522435e-05\n",
      "7.\t-5.07136e+10, 289.469, 0, -5.07136e+10 (95.4858%), 8.373394e-06\n",
      "8.\t-5.08556e+10, 304.103, 0, -5.08556e+10 (95.3027%), 9.210733e-06\n",
      "9.\t-5.08909e+10, 323.423, 0, -5.08909e+10 (95.2572%), 1.013181e-05\n",
      "10.\t-5.08986e+10, 344.148, 0, -5.08986e+10 (95.2473%), 1.114499e-05\n",
      "11.\t-5.10982e+10, 356.53, 0, -5.10982e+10 (94.99%), 6.129743e-06\n",
      "12.\t-5.12372e+10, 372.533, 0, -5.12372e+10 (94.8108%), 6.742717e-06\n",
      "13.\t-5.1306e+10, 388.372, 0, -5.1306e+10 (94.7221%), 7.416989e-06\n",
      "14.\t-5.14912e+10, 408.505, 0, -5.14912e+10 (94.4834%), 8.158688e-06\n",
      "15.\t-5.15499e+10, 419.697, 0, -5.15499e+10 (94.4078%), 4.487278e-06\n",
      "16.\t-5.15566e+10, 420.999, 0, -5.15566e+10 (94.3991%), 6.170008e-07\n",
      "17.\t-5.15566e+10, 421, 0, -5.15566e+10 (94.3991%), 6.627938e-10\n",
      "E = -5.15566e+10 (94.3991%)\n",
      "Length = 21.6311\n",
      "Time = 54.8759s (0.914598m)\n",
      "downsampled image\n"
     ]
    }
   ],
   "source": [
    " print \"affine\"\n",
    "inImg_ds = imgResample(inImg_affine, spacing=spacing)\n",
    "(field, invField) = imgMetamorphosisComposite(inImg_ds, refImg_ds, alphaList=[0.05, 0.02, 0.01], useMI=True, iterations=100, verbose=True)\n",
    "inImg_lddmm = imgApplyField(inImg_affine, field, size=refImg.GetSize())\n",
    "print \"downsampled image\"\n",
    "invAffine = affineInverse(affine)\n",
    "invAffineField = affineToField(invAffine, refImg.GetSize(), refImg.GetSpacing())\n",
    "invField = fieldApplyField(invAffineField, invField)\n",
    "inAnnoImg = imgApplyField(refAnnoImg, invField,useNearest=True, size=Img_reorient.GetSize())"
   ]
  },
  {
   "cell_type": "code",
   "execution_count": null,
   "metadata": {
    "collapsed": true
   },
   "outputs": [],
   "source": [
    "imgShow(inAnnoImg, vmax = 500)"
   ]
  },
  {
   "cell_type": "code",
   "execution_count": null,
   "metadata": {
    "collapsed": true
   },
   "outputs": [],
   "source": [
    "inAnnoImg = imgReorient(inAnnoImg, \"RSA\", ori1)\n",
    "# inAnnoImg = imgReorient(inAnnoImg, \"RSA\", \"LPS\")\n",
    "inAnnoImg = imgResample(inAnnoImg, spacing=inImg_download.GetSpacing(), size=inImg_download.GetSize(), useNearest=True)\n",
    "imgShow(inAnnoImg, vmax = 500)\n",
    "\n",
    "print \"inverse affine\""
   ]
  },
  {
   "cell_type": "code",
   "execution_count": null,
   "metadata": {
    "collapsed": true
   },
   "outputs": [],
   "source": [
    "# imgName = inToken + \"reorient_atlas\"\n",
    "# location = \"img/\" + imgName + \".nii\"\n",
    "# imgWrite(inAnnoImg, str(location)"
   ]
  }
 ],
 "metadata": {
  "kernelspec": {
   "display_name": "Python 2",
   "language": "python",
   "name": "python2"
  },
  "language_info": {
   "codemirror_mode": {
    "name": "ipython",
    "version": 2
   },
   "file_extension": ".py",
   "mimetype": "text/x-python",
   "name": "python",
   "nbconvert_exporter": "python",
   "pygments_lexer": "ipython2",
   "version": "2.7.12"
  }
 },
 "nbformat": 4,
 "nbformat_minor": 1
}
