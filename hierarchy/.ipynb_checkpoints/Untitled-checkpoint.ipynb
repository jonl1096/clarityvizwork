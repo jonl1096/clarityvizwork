{
 "cells": [
  {
   "cell_type": "code",
   "execution_count": 1,
   "metadata": {
    "collapsed": true
   },
   "outputs": [],
   "source": [
    "%matplotlib inline\n",
    "from ndreg import *\n",
    "import matplotlib\n",
    "import ndio.remote.neurodata as neurodata"
   ]
  },
  {
   "cell_type": "code",
   "execution_count": 2,
   "metadata": {
    "collapsed": true
   },
   "outputs": [],
   "source": [
    "inToken = 'Aut1367'\n",
    "ori1 = 'RPS'\n",
    "refToken = \"ara_ccf2\"                         # hardcoded 'ara_ccf2' atlas until additional functionality is requested"
   ]
  },
  {
   "cell_type": "code",
   "execution_count": null,
   "metadata": {
    "collapsed": true
   },
   "outputs": [],
   "source": [
    "refImg = imgDownload(refToken)                # download atlas\n",
    "refAnnoImg = imgDownload(refToken, channel=\"annotation\")\n",
    "print \"reference token/atlas obtained\"\n",
    "inImg = imgDownload(inToken, resolution=5)    # store downsampled level 5 brain to memory\n",
    "(values, bins) = np.histogram(sitk.GetArrayFromImage(inImg), bins=100, range=(0,500))\n",
    "print \"level 5 brain obtained\"\n",
    "counts = np.bincount(values)\n",
    "maximum = np.argmax(counts)\n",
    "\n",
    "lowerThreshold = maximum\n",
    "upperThreshold = sitk.GetArrayFromImage(inImg).max()+1\n",
    "\n",
    "inImg = sitk.Threshold(inImg,lowerThreshold,upperThreshold,lowerThreshold) - lowerThreshold\n",
    "print \"applied filtering\"\n",
    "rawImg = sitk.GetArrayFromImage(inImg)\n",
    "xdimensions = len(rawImg[:,0,0])\n",
    "ydimensions = len(rawImg[0,:,0])\n",
    "zdimensions = len(rawImg[0,0,:])\n",
    "xyz = []\n",
    "for i in range(40000):\n",
    "    value = 0\n",
    "    while(value == 0):\n",
    "        xval = random.sample(xrange(0,xdimensions), 1)[0]\n",
    "        yval = random.sample(xrange(0,ydimensions), 1)[0]\n",
    "        zval = random.sample(xrange(0,zdimensions), 1)[0]\n",
    "        value = rawImg[xval,yval,zval]\n",
    "        if [xval, yval, zval] not in xyz and value > 300:\n",
    "            xyz.append([xval, yval, zval])\n",
    "        else:\n",
    "            value = 0\n",
    "print('inToken asdfasdf:')\n",
    "print(inToken)\n",
    "rImg = claritybase(inToken + 'raw', None)\n",
    "rImg.savePoints(None,xyz)\n",
    "rImg.generate_plotly_html()\n",
    "print \"random sample of points above 250\"\n",
    "spacingImg = inImg.GetSpacing()\n",
    "spacing = tuple(i * 50 for i in spacingImg)\n",
    "inImg.SetSpacing(spacingImg)\n",
    "inImg_download = inImg    # Aut1367 set to default spacing\n",
    "inImg = imgResample(inImg, spacing=refImg.GetSpacing())\n",
    "print \"resampled img\"\n",
    "Img_reorient = imgReorient(inImg, ori1, \"RSA\")    # reoriented Aut1367\n",
    "# Img_reorient = imgReorient(inImg, \"LPS\", \"RSA\")    # reoriented Aut1367\n",
    "refImg_ds = imgResample(refImg, spacing=spacing)    # atlas with downsampled spacing 10x\n",
    "inImg_ds = imgResample(Img_reorient, spacing=spacing)    # Aut1367 with downsampled spacing 10x\n",
    "print \"reoriented image\"\n",
    "affine = imgAffineComposite(inImg_ds, refImg_ds, iterations=100, useMI=True, verbose=True)\n",
    "inImg_affine = imgApplyAffine(Img_reorient, affine, size=refImg.GetSize())\n"
   ]
  },
  {
   "cell_type": "code",
   "execution_count": null,
   "metadata": {
    "collapsed": true
   },
   "outputs": [],
   "source": [
    " print \"affine\"\n",
    "inImg_ds = imgResample(inImg_affine, spacing=spacing)\n",
    "(field, invField) = imgMetamorphosisComposite(inImg_ds, refImg_ds, alphaList=[0.05, 0.02, 0.01], useMI=True, iterations=100, verbose=True)\n",
    "inImg_lddmm = imgApplyField(inImg_affine, field, size=refImg.GetSize())\n",
    "print \"downsampled image\"\n",
    "invAffine = affineInverse(affine)\n",
    "invAffineField = affineToField(invAffine, refImg.GetSize(), refImg.GetSpacing())\n",
    "invField = fieldApplyField(invAffineField, invField)\n",
    "inAnnoImg = imgApplyField(refAnnoImg, invField,useNearest=True, size=Img_reorient.GetSize())"
   ]
  },
  {
   "cell_type": "code",
   "execution_count": null,
   "metadata": {
    "collapsed": true
   },
   "outputs": [],
   "source": [
    "imgShow(inAnnoImg, vmax = 500)"
   ]
  },
  {
   "cell_type": "code",
   "execution_count": null,
   "metadata": {
    "collapsed": true
   },
   "outputs": [],
   "source": [
    "inAnnoImg = imgReorient(inAnnoImg, \"RSA\", ori1)\n",
    "# inAnnoImg = imgReorient(inAnnoImg, \"RSA\", \"LPS\")\n",
    "inAnnoImg = imgResample(inAnnoImg, spacing=inImg_download.GetSpacing(), size=inImg_download.GetSize(), useNearest=True)\n",
    "imgShow(inAnnoImg, vmax = 500)\n",
    "\n",
    "print \"inverse affine\""
   ]
  },
  {
   "cell_type": "code",
   "execution_count": null,
   "metadata": {
    "collapsed": true
   },
   "outputs": [],
   "source": [
    "# imgName = inToken + \"reorient_atlas\"\n",
    "# location = \"img/\" + imgName + \".nii\"\n",
    "# imgWrite(inAnnoImg, str(location)"
   ]
  }
 ],
 "metadata": {
  "kernelspec": {
   "display_name": "Python 2",
   "language": "python",
   "name": "python2"
  },
  "language_info": {
   "codemirror_mode": {
    "name": "ipython",
    "version": 2
   },
   "file_extension": ".py",
   "mimetype": "text/x-python",
   "name": "python",
   "nbconvert_exporter": "python",
   "pygments_lexer": "ipython2",
   "version": "2.7.12"
  }
 },
 "nbformat": 4,
 "nbformat_minor": 1
}
